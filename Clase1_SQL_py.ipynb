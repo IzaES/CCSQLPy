{
 "cells": [
  {
   "attachments": {},
   "cell_type": "markdown",
   "metadata": {},
   "source": [
    "# Introducción a Python \n",
    "# Clase 1\n"
   ]
  },
  {
   "cell_type": "code",
   "execution_count": null,
   "metadata": {},
   "outputs": [
    {
     "name": "stdout",
     "output_type": "stream",
     "text": [
      "4+4= 8\n",
      "5*4= 20\n",
      "20 / 5= 4.0\n",
      "2 ** 3= 8\n",
      "4 ** (0.5)= 2.0\n",
      "8 ** (1/3)= 2.0\n"
     ]
    }
   ],
   "source": [
    "# Suma\n",
    "print(\"4+4=\", 4 + 4)\n",
    "\n",
    "# Mult\n",
    "print(\"5*4=\", 5 * 4)\n",
    "\n",
    "# Div\n",
    "print(\"20 / 5=\", 20 / 5)\n",
    "\n",
    "# potencias\n",
    "print(\"2 ** 3=\", 2 ** 3)\n",
    "\n",
    "# Calcular la raiz cuadrada de 4\n",
    "print(\"4 ** (0.5)=\", 4 ** (0.5))\n",
    "\n",
    "# Calcular la raiz cubica de 8\n",
    "print(\"8 ** (1/3)=\", 8 ** (1/3))"
   ]
  },
  {
   "cell_type": "code",
   "execution_count": null,
   "metadata": {},
   "outputs": [
    {
     "name": "stdout",
     "output_type": "stream",
     "text": [
      "The expression: 92\n",
      "The result: 92.0\n"
     ]
    }
   ],
   "source": [
    "import sympy as sp\n",
    "\n",
    "x = sp.Symbol('x')\n",
    "expression = 4 * (3**2 - 2*(5*4 - 3**3))\n",
    "\n",
    "latex_expression = sp.latex(expression)\n",
    "result = float(expression)  # Convert the expression to a float\n",
    "\n",
    "print(f\"The expression: {latex_expression}\")\n",
    "print(f\"The result: {result}\")\n",
    "\n"
   ]
  },
  {
   "cell_type": "code",
   "execution_count": 1,
   "metadata": {},
   "outputs": [
    {
     "name": "stdout",
     "output_type": "stream",
     "text": [
      "El resultado es: 92\n"
     ]
    }
   ],
   "source": [
    "print(f\"El resultado es: {4 * (3**2 - 2*(5*4 - 3**3))}\")\n",
    "\n"
   ]
  },
  {
   "attachments": {},
   "cell_type": "markdown",
   "metadata": {},
   "source": [
    "# Boolianos\n",
    "\n",
    "'True', 'False'\n",
    "\n",
    "Operadores lógicos\n",
    "\n",
    "* &\n",
    "* |\n",
    "* not\n"
   ]
  },
  {
   "cell_type": "code",
   "execution_count": 2,
   "metadata": {},
   "outputs": [
    {
     "name": "stdout",
     "output_type": "stream",
     "text": [
      "Tabla de verdad del operador AND\n",
      "True and True = True\n",
      "True and False = False\n",
      "False and True = False\n",
      "False and False = False\n",
      "----------------------------------------\n",
      "Tabla de verdad del operador OR\n",
      "True or True = True\n",
      "True or False = True\n",
      "False or True = True\n",
      "False or False = False\n"
     ]
    }
   ],
   "source": [
    "\"\"\"\n",
    "'&' -and: Nos regresará True siempre que las componentes\n",
    "      involucradas sean todas verdaderas (&)\n",
    "'|' -or: Nos regresará True siempre que en las componentes\n",
    "      haya al menos un True (|)\n",
    "'not -not: True-->False, False-->True (not)\n",
    "\"\"\"\n",
    "\n",
    "print(\"Tabla de verdad del operador AND\")\n",
    "print(\"True and True =\", True & True)\n",
    "print(\"True and False =\", True & False)\n",
    "print(\"False and True =\", False & True)\n",
    "print(\"False and False =\", False & False)\n",
    "print(\"-\" * 40)\n",
    "print(\"Tabla de verdad del operador OR\")\n",
    "print(\"True or True =\", True | True)\n",
    "print(\"True or False =\", True | False)\n",
    "print(\"False or True =\", False | True)\n",
    "print(\"False or False =\", False | False)"
   ]
  },
  {
   "cell_type": "code",
   "execution_count": 3,
   "metadata": {},
   "outputs": [
    {
     "data": {
      "text/plain": [
       "True"
      ]
     },
     "execution_count": 3,
     "metadata": {},
     "output_type": "execute_result"
    }
   ],
   "source": [
    "# False | False ---> False\n",
    "# not (False | False) ---> True\n",
    "# True & True--->True\n",
    "True & ( not (False | False) )"
   ]
  },
  {
   "cell_type": "code",
   "execution_count": 4,
   "metadata": {},
   "outputs": [
    {
     "name": "stdout",
     "output_type": "stream",
     "text": [
      "False\n",
      "True\n"
     ]
    }
   ],
   "source": [
    "print(not True)\n",
    "print(not False)"
   ]
  },
  {
   "attachments": {},
   "cell_type": "markdown",
   "metadata": {},
   "source": [
    "# Condicionales\n",
    "## Si pasa una condición(booleano=True), entonces hacemos una acción 1.\n",
    "## Si NO pasa esa condición(booleano=False), entonces hacemos una acción 2.\n",
    "---\n",
    "if <condicion>:\n",
    "\n",
    "### condicion es verdadera\n",
    "    accion1\n",
    "\n",
    "### condicion es falsa\n",
    "\n",
    "else:\n",
    "\n",
    "    accion2\n"
   ]
  },
  {
   "cell_type": "code",
   "execution_count": 5,
   "metadata": {},
   "outputs": [
    {
     "name": "stdout",
     "output_type": "stream",
     "text": [
      "No cruce (no pase)\n"
     ]
    }
   ],
   "source": [
    "#Situación: Semáforno peatonol: Si está en verde, pasamos; si no está en verde (rojo), no pasamos.\n",
    "# Implementar el semaforo peatonal\n",
    "color_semaforo = \"rojo\"\n",
    "\n",
    "if color_semaforo == \"verde\":\n",
    "    # Accion a realizar en caso de que la condicion sea verdadera\n",
    "    print(\"Cruce (pase)\")\n",
    "else:\n",
    "    # Accion a realizar en caso de que la condicion sea falsa\n",
    "    print(\"No cruce (no pase)\")"
   ]
  },
  {
   "cell_type": "code",
   "execution_count": 3,
   "metadata": {},
   "outputs": [
    {
     "name": "stdout",
     "output_type": "stream",
     "text": [
      "aprobaste\n"
     ]
    }
   ],
   "source": [
    "# Condicion verdadera: cal >= 6 ---> \"Aprobo\"\n",
    "# Condicion falsa: cal < 6 ---> \"Reprobo\"\n",
    "calificacion = float(input(\"Ingrese la calificación: \")) \n",
    "\n",
    "if calificacion >= 6:\n",
    "    # Accion a realizar cuando la condicion es verdadera\n",
    "    print(\"aprobaste\")\n",
    "else:\n",
    "    # Accion a realizar cuando la condicion es falsa\n",
    "    print(\"Reprobaste\")"
   ]
  },
  {
   "cell_type": "code",
   "execution_count": 4,
   "metadata": {},
   "outputs": [
    {
     "name": "stdout",
     "output_type": "stream",
     "text": [
      "Desempeño regular\n"
     ]
    }
   ],
   "source": [
    "calificacion = float(input(\"Ingrese la calificación: \")) \n",
    "\n",
    "# Condicion 1\n",
    "if calificacion < 6:\n",
    "    # Accion1 a realizar cuando la condicion1 es verdadera\n",
    "    print(\"Reprobaste\")\n",
    "# condicion 2\n",
    "elif (calificacion >= 6) & (calificacion < 8):\n",
    "    # Accion2 a realizar cuando la condicion2 es verdadera\n",
    "    print(\"Desempeño regular\")\n",
    "# condicion 3\n",
    "elif (calificacion >= 8) & (calificacion < 9.5):\n",
    "    # Accion3 a realizar cuando la condicion3 es verdadera\n",
    "    print(\"Desempeño muy bueno\")\n",
    "# cal >= 9.5\n",
    "else:\n",
    "    # Accion a realizar cuando todas las condiciones anteriores\n",
    "    # sean falsas\n",
    "    print(\"Desempeño excelente\")\n"
   ]
  },
  {
   "cell_type": "code",
   "execution_count": null,
   "metadata": {},
   "outputs": [],
   "source": []
  },
  {
   "cell_type": "code",
   "execution_count": null,
   "metadata": {},
   "outputs": [],
   "source": []
  },
  {
   "cell_type": "code",
   "execution_count": null,
   "metadata": {},
   "outputs": [],
   "source": []
  }
 ],
 "metadata": {
  "kernelspec": {
   "display_name": "Python 3",
   "language": "python",
   "name": "python3"
  },
  "language_info": {
   "codemirror_mode": {
    "name": "ipython",
    "version": 3
   },
   "file_extension": ".py",
   "mimetype": "text/x-python",
   "name": "python",
   "nbconvert_exporter": "python",
   "pygments_lexer": "ipython3",
   "version": "3.10.4"
  },
  "orig_nbformat": 4
 },
 "nbformat": 4,
 "nbformat_minor": 2
}
