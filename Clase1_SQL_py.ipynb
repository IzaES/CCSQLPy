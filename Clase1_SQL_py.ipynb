{
 "cells": [
  {
   "attachments": {},
   "cell_type": "markdown",
   "metadata": {},
   "source": [
    "# Introducción a Python \n",
    "# Clase 1\n"
   ]
  },
  {
   "cell_type": "code",
   "execution_count": 1,
   "metadata": {},
   "outputs": [
    {
     "name": "stdout",
     "output_type": "stream",
     "text": [
      "4+4= 8\n",
      "5*4= 20\n",
      "20 / 5= 4.0\n",
      "2 ** 3= 8\n",
      "4 ** (0.5)= 2.0\n",
      "8 ** (1/3)= 2.0\n"
     ]
    }
   ],
   "source": [
    "# Suma\n",
    "print(\"4+4=\", 4 + 4)\n",
    "\n",
    "# Mult\n",
    "print(\"5*4=\", 5 * 4)\n",
    "\n",
    "# Div\n",
    "print(\"20 / 5=\", 20 / 5)\n",
    "\n",
    "# potencias\n",
    "print(\"2 ** 3=\", 2 ** 3)\n",
    "\n",
    "# Calcular la raiz cuadrada de 4\n",
    "print(\"4 ** (0.5)=\", 4 ** (0.5))\n",
    "\n",
    "# Calcular la raiz cubica de 8\n",
    "print(\"8 ** (1/3)=\", 8 ** (1/3))"
   ]
  },
  {
   "cell_type": "code",
   "execution_count": 2,
   "metadata": {},
   "outputs": [
    {
     "name": "stdout",
     "output_type": "stream",
     "text": [
      "The expression: 92\n",
      "The result: 92.0\n"
     ]
    }
   ],
   "source": [
    "import sympy as sp\n",
    "\n",
    "x = sp.Symbol('x')\n",
    "expression = 4 * (3**2 - 2*(5*4 - 3**3))\n",
    "\n",
    "latex_expression = sp.latex(expression)\n",
    "result = float(expression)  # Convert the expression to a float\n",
    "\n",
    "print(f\"The expression: {latex_expression}\")\n",
    "print(f\"The result: {result}\")\n",
    "\n"
   ]
  },
  {
   "cell_type": "code",
   "execution_count": 5,
   "metadata": {},
   "outputs": [
    {
     "ename": "SyntaxError",
     "evalue": "f-string expression part cannot include a backslash (305304706.py, line 1)",
     "output_type": "error",
     "traceback": [
      "\u001b[0;36m  Cell \u001b[0;32mIn[5], line 1\u001b[0;36m\u001b[0m\n\u001b[0;31m    print(f\"Resuelve la siguiente operación matemática: {r'$4(3^2 - 2(5 \\cdot 4 - 3^3))$'}\")\u001b[0m\n\u001b[0m                                                                                           ^\u001b[0m\n\u001b[0;31mSyntaxError\u001b[0m\u001b[0;31m:\u001b[0m f-string expression part cannot include a backslash\n"
     ]
    }
   ],
   "source": [
    "print(f\"Resuelve la siguiente operación matemática: {r'$4(3^2 - 2(5 \\cdot 4 - 3^3))$'}\")\n",
    "print(f\"El resultado es: {4 * (3**2 - 2*(5*4 - 3**3))}\")\n",
    "\n"
   ]
  },
  {
   "cell_type": "markdown",
   "metadata": {},
   "source": []
  }
 ],
 "metadata": {
  "kernelspec": {
   "display_name": "Python 3",
   "language": "python",
   "name": "python3"
  },
  "language_info": {
   "codemirror_mode": {
    "name": "ipython",
    "version": 3
   },
   "file_extension": ".py",
   "mimetype": "text/x-python",
   "name": "python",
   "nbconvert_exporter": "python",
   "pygments_lexer": "ipython3",
   "version": "3.10.4"
  },
  "orig_nbformat": 4
 },
 "nbformat": 4,
 "nbformat_minor": 2
}
